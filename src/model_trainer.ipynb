{
 "cells": [
  {
   "cell_type": "markdown",
   "metadata": {},
   "source": [
    "# Entrenamiento de modelo"
   ]
  },
  {
   "cell_type": "code",
   "execution_count": 1,
   "metadata": {
    "colab": {},
    "colab_type": "code",
    "id": "aHc-cd-LYgeo"
   },
   "outputs": [],
   "source": [
    "import reviews_scraper # Script para tomar las reseñas de internet\n",
    "\n",
    "from sklearn import preprocessing\n",
    "from sklearn.feature_extraction.text import CountVectorizer\n",
    "from sklearn.model_selection import train_test_split\n",
    "from sklearn.linear_model import LogisticRegression\n",
    "from sklearn.linear_model import LinearRegression\n",
    "from sklearn.metrics import accuracy_score\n",
    "from sklearn.metrics import r2_score\n",
    "import pandas as pd"
   ]
  },
  {
   "cell_type": "code",
   "execution_count": 2,
   "metadata": {},
   "outputs": [
    {
     "name": "stdout",
     "output_type": "stream",
     "text": [
      "3302\n"
     ]
    }
   ],
   "source": [
    "urls_unal = reviews_scraper.get_urls_unal()\n",
    "urls_andes = reviews_scraper.get_urls_uniandes()\n",
    "\n",
    "all_urls = urls_andes + urls_unal\n",
    "train_data = reviews_scraper.get_train_data(all_urls)\n",
    "df = pd.DataFrame(train_data)"
   ]
  },
  {
   "cell_type": "code",
   "execution_count": 3,
   "metadata": {
    "colab": {
     "base_uri": "https://localhost:8080/",
     "height": 348
    },
    "colab_type": "code",
    "id": "8FpWJgbuZLjL",
    "outputId": "183ab215-4ad9-4661-d9ad-ac045c556093"
   },
   "outputs": [
    {
     "name": "stdout",
     "output_type": "stream",
     "text": [
      "0    7677\n",
      "1    7677\n",
      "2    7677\n",
      "dtype: int64\n",
      "                                                       0    1  \\\n",
      "0      Es lo peor en serio no explica nada, no es cla...    2   \n",
      "1      Todo un amor de profesor, no sé como sea para ...    5   \n",
      "2      El CBU es un poco aburrido si no te interesa e...  3.5   \n",
      "3      Es la clase más aburrida que he visto en la un...  1.5   \n",
      "4      Hernando es muy buena persona, en realidad es ...    4   \n",
      "...                                                  ...  ...   \n",
      "24394  Excelente cátedra. Sus clases están dotadas de...    5   \n",
      "24395  Muy buen profesor, el sesgo es evidente pero a...  4.2   \n",
      "24396  Buen profesor, pero a veces no separa los punt...    4   \n",
      "24397  Es el profesor perfecto para introducirlo a un...    5   \n",
      "24398  Muy buen profesor!\\nTiene un gran conocimiento...    5   \n",
      "\n",
      "                                                       2  \n",
      "0      https://losestudiantes.co/universidad-de-los-a...  \n",
      "1      https://losestudiantes.co/universidad-de-los-a...  \n",
      "2      https://losestudiantes.co/universidad-de-los-a...  \n",
      "3      https://losestudiantes.co/universidad-de-los-a...  \n",
      "4      https://losestudiantes.co/universidad-de-los-a...  \n",
      "...                                                  ...  \n",
      "24394  https://losestudiantes.co/universidad-nacional...  \n",
      "24395  https://losestudiantes.co/universidad-nacional...  \n",
      "24396  https://losestudiantes.co/universidad-nacional...  \n",
      "24397  https://losestudiantes.co/universidad-nacional...  \n",
      "24398  https://losestudiantes.co/universidad-nacional...  \n",
      "\n",
      "[24399 rows x 3 columns]\n"
     ]
    }
   ],
   "source": [
    "\"\"\"Checkear cuantos 5 hay\"\"\"\n",
    "print(df[df[1]==\"5\"].count())\n",
    "print(df)"
   ]
  },
  {
   "cell_type": "code",
   "execution_count": 4,
   "metadata": {
    "colab": {
     "base_uri": "https://localhost:8080/",
     "height": 225
    },
    "colab_type": "code",
    "id": "_HODXCcyZPyD",
    "outputId": "ed583078-93a1-4f33-d0ae-4d8779b2b968"
   },
   "outputs": [
    {
     "name": "stdout",
     "output_type": "stream",
     "text": [
      "24006      2\n",
      "6165       4\n",
      "4438     4.7\n",
      "14032      4\n",
      "873      4.5\n",
      "        ... \n",
      "5711       4\n",
      "10099    3.5\n",
      "768        5\n",
      "16445      2\n",
      "18367      4\n",
      "Name: 1, Length: 18299, dtype: object\n"
     ]
    }
   ],
   "source": [
    "cv = CountVectorizer(binary=True)\n",
    "cv.fit(df[0])\n",
    "X = cv.transform(df[0])\n",
    "\n",
    "x_train,x_test,y_train , y_test = train_test_split(X,df[1], train_size =  0.75)\n",
    "print(y_train)"
   ]
  },
  {
   "cell_type": "code",
   "execution_count": 5,
   "metadata": {
    "colab": {
     "base_uri": "https://localhost:8080/",
     "height": 86
    },
    "colab_type": "code",
    "id": "wOQSbNuecY48",
    "outputId": "201121d7-683b-4cde-96ab-f7706d551b31"
   },
   "outputs": [
    {
     "data": {
      "text/plain": [
       "'\\nfor c in [0.01, 0.05, 0.25, 0.5, 1]:\\n    lr = LogisticRegression(solver=\\'newton-cg\\',C=c,max_iter=1000)\\n    lr.fit(x_train, y_train)\\n    accuracy = accuracy_score(y_test, lr.predict(x_test))\\n    if accuracy >= 0.4:\\n        print(\"Accuracy for C = {}: {}\".format(c, accuracy))\\n    \\nlogit = LogisticRegression(C=1, solver=\\'lbfgs\\', n_jobs=-1, random_state=7, max_iter=1000)\\nlog_reg = logit.fit(x_train,y_train)\\n'"
      ]
     },
     "execution_count": 5,
     "metadata": {},
     "output_type": "execute_result"
    }
   ],
   "source": [
    "\"\"\"MODELO #1: Regresión logística\"\"\"\n",
    "\"\"\"\n",
    "for c in [0.01, 0.05, 0.25, 0.5, 1]:\n",
    "    lr = LogisticRegression(solver='newton-cg',C=c,max_iter=1000)\n",
    "    lr.fit(x_train, y_train)\n",
    "    accuracy = accuracy_score(y_test, lr.predict(x_test))\n",
    "    if accuracy >= 0.4:\n",
    "        print(\"Accuracy for C = {}: {}\".format(c, accuracy))\n",
    "    \n",
    "logit = LogisticRegression(C=1, solver='lbfgs', n_jobs=-1, random_state=7, max_iter=1000)\n",
    "log_reg = logit.fit(x_train,y_train)\n",
    "\"\"\""
   ]
  },
  {
   "cell_type": "code",
   "execution_count": 6,
   "metadata": {
    "colab": {
     "base_uri": "https://localhost:8080/",
     "height": 35
    },
    "colab_type": "code",
    "id": "gc4WquwksQrR",
    "outputId": "f61ba528-4e43-49c8-c57c-a53e06608316"
   },
   "outputs": [
    {
     "data": {
      "text/plain": [
       "'\\nreview = \"es pesimo profesor, no merece estar en esa universidad\"\\ntest = [(review)]\\nval = cv.transform(test)\\nprint(log_reg.predict(val))\\n'"
      ]
     },
     "execution_count": 6,
     "metadata": {},
     "output_type": "execute_result"
    }
   ],
   "source": [
    "\"\"\"\n",
    "review = \"es pesimo profesor, no merece estar en esa universidad\"\n",
    "test = [(review)]\n",
    "val = cv.transform(test)\n",
    "print(log_reg.predict(val))\n",
    "\"\"\""
   ]
  },
  {
   "cell_type": "code",
   "execution_count": 7,
   "metadata": {
    "colab": {
     "base_uri": "https://localhost:8080/",
     "height": 86
    },
    "colab_type": "code",
    "id": "wOQSbNuecY48",
    "outputId": "201121d7-683b-4cde-96ab-f7706d551b31"
   },
   "outputs": [
    {
     "data": {
      "text/plain": [
       "LinearRegression(copy_X=False, fit_intercept=False, n_jobs=-1, normalize=False)"
      ]
     },
     "execution_count": 7,
     "metadata": {},
     "output_type": "execute_result"
    }
   ],
   "source": [
    "\"\"\"MODELO #2: Regresión Lineal\"\"\"\n",
    "lr = LinearRegression(fit_intercept=False, normalize=False, copy_X=False, n_jobs=-1)\n",
    "lr.fit(x_train, y_train)"
   ]
  },
  {
   "cell_type": "code",
   "execution_count": 8,
   "metadata": {},
   "outputs": [
    {
     "name": "stdout",
     "output_type": "stream",
     "text": [
      "-91.08779420937626\n"
     ]
    }
   ],
   "source": [
    "performance = lr.score(x_test, y_test)\n",
    "r2_score(y_test, lr.predict(x_test))\n",
    "print(performance)"
   ]
  },
  {
   "cell_type": "code",
   "execution_count": 9,
   "metadata": {
    "colab": {
     "base_uri": "https://localhost:8080/",
     "height": 35
    },
    "colab_type": "code",
    "id": "gc4WquwksQrR",
    "outputId": "f61ba528-4e43-49c8-c57c-a53e06608316"
   },
   "outputs": [
    {
     "name": "stdout",
     "output_type": "stream",
     "text": [
      "[1.31823662]\n"
     ]
    }
   ],
   "source": [
    "review = \"es pesimo profesor, no merece estar en esa universidad\"\n",
    "test = [(review)]\n",
    "val = cv.transform(test)\n",
    "print(lr.predict(val))"
   ]
  },
  {
   "cell_type": "code",
   "execution_count": 10,
   "metadata": {
    "colab": {
     "base_uri": "https://localhost:8080/",
     "height": 55
    },
    "colab_type": "code",
    "id": "8CKForvFc291",
    "outputId": "8c9b7075-f236-45dd-b4d2-7111107fbff6"
   },
   "outputs": [
    {
     "data": {
      "text/plain": [
       "'\\n\"\"\"MODELO #3: NN\"\"\"\\nfrom keras.models import Sequential\\nfrom keras.layers import Dense\\n# define the keras model\\nmodel = Sequential()\\nmodel.add(Dense(12, input_dim=1902, activation=\\'relu\\'))\\nmodel.add(Dense(1902, activation=\\'relu\\'))\\nmodel.add(Dense(1, activation=\\'sigmoid\\'))\\n# compile the keras model\\nmodel.compile(loss=\\'binary_crossentropy\\', optimizer=\\'adam\\', metrics=[\\'accuracy\\'])\\n# fit the keras model on the dataset\\nmodel.fit(X, df[1], epochs=150, batch_size=10)\\n'"
      ]
     },
     "execution_count": 10,
     "metadata": {},
     "output_type": "execute_result"
    }
   ],
   "source": [
    "'''\n",
    "\"\"\"MODELO #3: NN\"\"\"\n",
    "from keras.models import Sequential\n",
    "from keras.layers import Dense\n",
    "# define the keras model\n",
    "model = Sequential()\n",
    "model.add(Dense(12, input_dim=1902, activation='relu'))\n",
    "model.add(Dense(1902, activation='relu'))\n",
    "model.add(Dense(1, activation='sigmoid'))\n",
    "# compile the keras model\n",
    "model.compile(loss='binary_crossentropy', optimizer='adam', metrics=['accuracy'])\n",
    "# fit the keras model on the dataset\n",
    "model.fit(X, df[1], epochs=150, batch_size=10)\n",
    "'''"
   ]
  }
 ],
 "metadata": {
  "colab": {
   "collapsed_sections": [],
   "name": "Proyecto3.ipynb",
   "provenance": [],
   "toc_visible": true
  },
  "kernelspec": {
   "display_name": "Python 3",
   "language": "python",
   "name": "python3"
  },
  "language_info": {
   "codemirror_mode": {
    "name": "ipython",
    "version": 3
   },
   "file_extension": ".py",
   "mimetype": "text/x-python",
   "name": "python",
   "nbconvert_exporter": "python",
   "pygments_lexer": "ipython3",
   "version": "3.7.3"
  }
 },
 "nbformat": 4,
 "nbformat_minor": 1
}
