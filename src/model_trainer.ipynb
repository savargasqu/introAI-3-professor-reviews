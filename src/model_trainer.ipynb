{
 "cells": [
  {
   "cell_type": "markdown",
   "metadata": {},
   "source": [
    "# Entrenamiento de modelo"
   ]
  },
  {
   "cell_type": "code",
   "execution_count": 7,
   "metadata": {
    "colab": {},
    "colab_type": "code",
    "id": "aHc-cd-LYgeo"
   },
   "outputs": [],
   "source": [
    "import reviews_scraper # Script para tomar las reseñas de internet\n",
    "\n",
    "from sklearn import preprocessing\n",
    "from sklearn.feature_extraction.text import CountVectorizer\n",
    "from sklearn.model_selection import train_test_split\n",
    "from sklearn.linear_model import LogisticRegression\n",
    "from sklearn.linear_model import LinearRegression\n",
    "from sklearn.metrics import accuracy_score\n",
    "from sklearn.metrics import r2_score\n",
    "import pandas as pd"
   ]
  },
  {
   "cell_type": "code",
   "execution_count": 8,
   "metadata": {},
   "outputs": [],
   "source": [
    "urls_unal = reviews_scraper.get_urls_unal()\n",
    "urls_andes = reviews_scraper.get_urls_uniandes()\n",
    "\n",
    "all_urls = urls_andes + urls_unal\n",
    "train_data = reviews_scraper.get_train_data(all_urls)\n",
    "df = pd.DataFrame(train_data)"
   ]
  },
  {
   "cell_type": "code",
   "execution_count": 9,
   "metadata": {
    "colab": {
     "base_uri": "https://localhost:8080/",
     "height": 348
    },
    "colab_type": "code",
    "id": "8FpWJgbuZLjL",
    "outputId": "183ab215-4ad9-4661-d9ad-ac045c556093"
   },
   "outputs": [
    {
     "name": "stdout",
     "output_type": "stream",
     "text": [
      "0    7677\n",
      "1    7677\n",
      "2    7677\n",
      "dtype: int64\n"
     ]
    }
   ],
   "source": [
    "\"\"\"Contar  cincos (debugging)\"\"\"\n",
    "print(df[df[1] == \"5\"].count())"
   ]
  },
  {
   "cell_type": "code",
   "execution_count": 10,
   "metadata": {
    "colab": {
     "base_uri": "https://localhost:8080/",
     "height": 225
    },
    "colab_type": "code",
    "id": "_HODXCcyZPyD",
    "outputId": "ed583078-93a1-4f33-d0ae-4d8779b2b968"
   },
   "outputs": [
    {
     "name": "stdout",
     "output_type": "stream",
     "text": [
      "14644      5\n",
      "17397      4\n",
      "8048     1.5\n",
      "14549      3\n",
      "21251    4.7\n",
      "        ... \n",
      "15101      3\n",
      "18887      5\n",
      "21624      3\n",
      "17219    3.7\n",
      "17801    4.8\n",
      "Name: 1, Length: 18299, dtype: object\n"
     ]
    }
   ],
   "source": [
    "\"\"\"Vectorización de datos\"\"\"\n",
    "cv = CountVectorizer(binary=True)\n",
    "cv.fit(df[0])\n",
    "X = cv.transform(df[0])\n",
    "\n",
    "\"\"\"Partición de datos\"\"\"\n",
    "x_train, x_test, y_train, y_test = train_test_split(X, df[1], train_size = 0.75)\n",
    "print(y_train)"
   ]
  },
  {
   "cell_type": "code",
   "execution_count": 11,
   "metadata": {
    "colab": {
     "base_uri": "https://localhost:8080/",
     "height": 86
    },
    "colab_type": "code",
    "id": "wOQSbNuecY48",
    "outputId": "201121d7-683b-4cde-96ab-f7706d551b31"
   },
   "outputs": [
    {
     "name": "stdout",
     "output_type": "stream",
     "text": [
      "-94.95165765964322\n"
     ]
    }
   ],
   "source": [
    "\"\"\"MODELO #2: Regresión Lineal\"\"\"\n",
    "lr = LinearRegression(fit_intercept=False, normalize=False, copy_X=False, n_jobs=-1)\n",
    "lr.fit(x_train, y_train)\n",
    "\n",
    "performance = lr.score(x_test, y_test)\n",
    "r2_score(y_test, lr.predict(x_test))\n",
    "print(performance)"
   ]
  },
  {
   "cell_type": "code",
   "execution_count": 14,
   "metadata": {
    "colab": {
     "base_uri": "https://localhost:8080/",
     "height": 35
    },
    "colab_type": "code",
    "id": "gc4WquwksQrR",
    "outputId": "f61ba528-4e43-49c8-c57c-a53e06608316",
    "scrolled": true
   },
   "outputs": [
    {
     "name": "stdout",
     "output_type": "stream",
     "text": [
      "[2.49256291]\n",
      "[4.45948582]\n"
     ]
    }
   ],
   "source": [
    "review_bad = \"es mal profesor, es muy desorganizado y los parciales son dificiles\"\n",
    "test_bad = cv.transform([(review_bad)])\n",
    "print(lr.predict(test_bad))\n",
    "\n",
    "\n",
    "review_good = \"Es el mejor profesor de la vida, sabe mucho\"\n",
    "test_good = cv.transform([(review_good)])\n",
    "print(lr.predict(test_good))"
   ]
  }
 ],
 "metadata": {
  "colab": {
   "collapsed_sections": [],
   "name": "Proyecto3.ipynb",
   "provenance": [],
   "toc_visible": true
  },
  "kernelspec": {
   "display_name": "Python 3",
   "language": "python",
   "name": "python3"
  },
  "language_info": {
   "codemirror_mode": {
    "name": "ipython",
    "version": 3
   },
   "file_extension": ".py",
   "mimetype": "text/x-python",
   "name": "python",
   "nbconvert_exporter": "python",
   "pygments_lexer": "ipython3",
   "version": "3.7.3"
  }
 },
 "nbformat": 4,
 "nbformat_minor": 1
}
