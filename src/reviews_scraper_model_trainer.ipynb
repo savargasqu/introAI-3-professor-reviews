{
 "cells": [
  {
   "cell_type": "code",
   "execution_count": 1,
   "metadata": {
    "colab": {},
    "colab_type": "code",
    "id": "upgvm9ZWjE7g"
   },
   "outputs": [],
   "source": [
    "from bs4 import BeautifulSoup\n",
    "from requests import get as req_get\n",
    "import os.path\n",
    "import json"
   ]
  },
  {
   "cell_type": "markdown",
   "metadata": {},
   "source": [
    "# Adquisición de datos"
   ]
  },
  {
   "cell_type": "code",
   "execution_count": 2,
   "metadata": {
    "colab": {},
    "colab_type": "code",
    "id": "JSd6jdQ-jbx7"
   },
   "outputs": [],
   "source": [
    "\"\"\" Funciones auxiliares \"\"\"\n",
    "def normalize(s):\n",
    "    \"\"\"Quita acentos, espacios y capitalizción de cadenas\"\"\"\n",
    "    replacements = ((\"á\", \"a\"), (\"é\", \"e\"), (\"í\", \"i\"), (\"ó\", \"o\"), (\"ú\", \"u\"),\n",
    "                    (\"ñ\",\"n\"), (\"  \",\" \"), (\" \",\"-\") )\n",
    "    s = s.strip()\n",
    "    for a, b in replacements:\n",
    "        s = s.replace(a, b).replace(a.upper(), b.upper())\n",
    "        s = s.lower()\n",
    "    return s\n",
    "\n",
    "\n",
    "def url_maker(departamento, docente):\n",
    "    \"\"\"dado un profesor y su departamento retorna la url del profesor en losestudiantes.co\"\"\"\n",
    "    base_url = \"https://losestudiantes.co/universidad-nacional/\"\n",
    "    url = \"{}{}/profesores/{}\".format(base_url, departamento,docente)\n",
    "    return(url)"
   ]
  },
  {
   "cell_type": "code",
   "execution_count": 3,
   "metadata": {
    "colab": {},
    "colab_type": "code",
    "id": "I8i8atSrj_xb"
   },
   "outputs": [],
   "source": [
    "\"\"\"Obtener la lista de profesores de la facultad de artes\"\"\"\n",
    "url_artes = 'http://www.facartes.unal.edu.co/fa/docentes/index.php'\n",
    "html_artes = req_get(url_artes).text\n",
    "\n",
    "arbol = BeautifulSoup(html_artes)\n",
    "#print(arbol.find(\"option\",selected=True).text)\n",
    "escuelas = arbol.find_all(\"option\")\n",
    "#print(escuelas[0]['value'])\n",
    "docentes = {}\n",
    "\n",
    "for escuela in escuelas:\n",
    "    docente_dep = []\n",
    "    new_url = url_artes+\"?escuela=\" + escuela['value']\n",
    "    html_artes = req_get(new_url).text\n",
    "    arbol = BeautifulSoup(html_artes)\n",
    "    for i in arbol.find_all(\"span\", {\"class\":\"name\"}):\n",
    "        docente_dep.append(normalize(i.text))\n",
    "    docentes[normalize(arbol.find(\"option\",selected=True).text)] = docente_dep\n",
    "\n",
    "docentes[\"artes-plasticas-y-visuales\"] = docentes.pop(\"artes-plasticas\")"
   ]
  },
  {
   "cell_type": "code",
   "execution_count": 4,
   "metadata": {
    "colab": {},
    "colab_type": "code",
    "id": "oEZA1JLc6MVl"
   },
   "outputs": [],
   "source": [
    "\"\"\"Obtener la lista de profesores del departamento de admin y countaduria\"\"\"\n",
    "\n",
    "url_administracion_contaduria = \"http://fce.unal.edu.co/docentesfce/index.php?escuela=1\"\n",
    "html_administracion_contaduria =  req_get(url_administracion_contaduria).text\n",
    "arbol = BeautifulSoup(html_administracion_contaduria)\n",
    "docente_dep = []\n",
    "for profesor in arbol.find_all(\"h4\",{ \"style\":\"font-size: 16px\"}):\n",
    "    docente_dep.append(normalize(profesor.text))\n",
    "docentes[\"administracion-y-contaduria-publica\"] = docente_dep"
   ]
  },
  {
   "cell_type": "code",
   "execution_count": 5,
   "metadata": {
    "colab": {},
    "colab_type": "code",
    "id": "f-qD4hPWA0GT"
   },
   "outputs": [],
   "source": [
    "\"\"\"Obtener la lista de profesores del departamento de economía\"\"\"\n",
    "\n",
    "url_economia = \"http://fce.unal.edu.co/docentesfce/index.php?escuela=2\"\n",
    "html_economia =  req_get(url_economia).text\n",
    "arbol = BeautifulSoup(html_economia)\n",
    "docente_dep = []\n",
    "for profesor in arbol.find_all(\"h4\",{ \"style\":\"font-size: 16px\"}):\n",
    "    docente_dep.append(normalize(profesor.text))\n",
    "docentes[\"economia\"] = docente_dep\n"
   ]
  },
  {
   "cell_type": "code",
   "execution_count": 6,
   "metadata": {
    "colab": {
     "base_uri": "https://localhost:8080/",
     "height": 35
    },
    "colab_type": "code",
    "id": "2dRJFoyU7ALq",
    "outputId": "f0b62cfc-61d1-4ad9-fc8f-a2a8690a096e"
   },
   "outputs": [
    {
     "name": "stdout",
     "output_type": "stream",
     "text": [
      "3302\n"
     ]
    }
   ],
   "source": [
    "\"\"\"Obtener la lista de profesores de Uniandes\"\"\"\n",
    "urls = []\n",
    "with open(\"./data/url_andes.txt\",\"r\") as url_andes:\n",
    "    arbol = BeautifulSoup(url_andes.read())\n",
    "    for a in arbol.find_all(\"a\",{\"class\":\"jsx-633353764\"}):\n",
    "        urls.append(\"https://losestudiantes.co/\"+a['href'])\n",
    "print(len(urls))"
   ]
  },
  {
   "cell_type": "code",
   "execution_count": 7,
   "metadata": {
    "colab": {},
    "colab_type": "code",
    "id": "z_EYEmhnxZA2"
   },
   "outputs": [],
   "source": [
    "json.dump(docentes, open(\"./data/profesors.json\", 'w'))\n",
    "\n",
    "for k,v in docentes.items():\n",
    "    for profesor in v:\n",
    "        urls.append(url_maker(k,profesor))\n",
    "\n",
    "with open('urls.txt', 'w') as f:\n",
    "    for item in urls:\n",
    "        f.write(\"%s\\n\" % item)"
   ]
  },
  {
   "cell_type": "code",
   "execution_count": null,
   "metadata": {
    "colab": {
     "base_uri": "https://localhost:8080/",
     "height": 55
    },
    "colab_type": "code",
    "id": "v-NfnrC8F5gw",
    "outputId": "ccdea321-e062-4b97-87db-dd0aa66c2f2f"
   },
   "outputs": [],
   "source": [
    "train_data =[]\n",
    "if os.path.isfile('reviews.json'):\n",
    "    # # Read data from file:\n",
    "      train_data = json.load( open( \"reviews.json\" ) )\n",
    "else:\n",
    "    for url in urls:\n",
    "        html_review = req_get(url).text\n",
    "        arbol = BeautifulSoup(html_review)\n",
    "        containers = arbol.find_all(\"li\",{\"class\":\"jsx-571610088 post \"})  \n",
    "        for container in containers:\n",
    "    # nota = container.find(\"span\",{\"class\":\"jsx-571610088 numeroStats\"}).text\n",
    "    #nota = round(nota * 2) / 2\n",
    "            review = container.find(\"div\",{\"class\":\"jsx-571610088 lineBreak\"})\n",
    "            nota = container.find(\"span\",{\"class\":\"jsx-571610088 numeroStats\"})\n",
    "            if nota is None or review is None:\n",
    "                continue\n",
    "            train_data.append((review.text, str(nota.text),url))"
   ]
  },
  {
   "cell_type": "code",
   "execution_count": null,
   "metadata": {
    "colab": {},
    "colab_type": "code",
    "id": "Aplvq30XVtYW"
   },
   "outputs": [],
   "source": [
    "with open('reviews.txt', 'w') as f:\n",
    "    for item in train_data:\n",
    "        f.write(\"{} --{}\\n\".format(item[0], item[1]))\n",
    "json.dump(train_data, open( \"reviews.json\", 'w', encoding='utf-8'))"
   ]
  },
  {
   "cell_type": "markdown",
   "metadata": {},
   "source": [
    "# Entrenamiento de modelo"
   ]
  },
  {
   "cell_type": "code",
   "execution_count": null,
   "metadata": {
    "colab": {},
    "colab_type": "code",
    "id": "aHc-cd-LYgeo"
   },
   "outputs": [],
   "source": [
    "from sklearn.feature_extraction.text import CountVectorizer\n",
    "from sklearn.model_selection import train_test_split\n",
    "from sklearn import preprocessing\n",
    "import pandas as pd"
   ]
  },
  {
   "cell_type": "code",
   "execution_count": null,
   "metadata": {
    "colab": {
     "base_uri": "https://localhost:8080/",
     "height": 348
    },
    "colab_type": "code",
    "id": "8FpWJgbuZLjL",
    "outputId": "183ab215-4ad9-4661-d9ad-ac045c556093"
   },
   "outputs": [],
   "source": [
    "df = pd.DataFrame(train_data)\n",
    "print(df[df[1]==\"5\"].count())\n",
    "print(df)"
   ]
  },
  {
   "cell_type": "code",
   "execution_count": null,
   "metadata": {
    "colab": {
     "base_uri": "https://localhost:8080/",
     "height": 225
    },
    "colab_type": "code",
    "id": "_HODXCcyZPyD",
    "outputId": "ed583078-93a1-4f33-d0ae-4d8779b2b968"
   },
   "outputs": [],
   "source": [
    "cv = CountVectorizer(binary=True)\n",
    "cv.fit(df[0])\n",
    "X = cv.transform(df[0])\n",
    "\n",
    "x_train,x_test,y_train , y_test = train_test_split(X,df[1], train_size =  0.75)\n",
    "print(y_train)"
   ]
  },
  {
   "cell_type": "code",
   "execution_count": null,
   "metadata": {
    "colab": {
     "base_uri": "https://localhost:8080/",
     "height": 86
    },
    "colab_type": "code",
    "id": "wOQSbNuecY48",
    "outputId": "201121d7-683b-4cde-96ab-f7706d551b31"
   },
   "outputs": [],
   "source": [
    "from sklearn.linear_model import LogisticRegression\n",
    "from sklearn.metrics import accuracy_score\n",
    "for c in [0.01, 0.05, 0.25, 0.5, 1]:\n",
    "    print\n",
    "    lr = LogisticRegression(solver='newton-cg',C=c,max_iter=1000)\n",
    "    lr.fit(x_train, y_train)\n",
    "    accuracy = accuracy_score(y_test, lr.predict(x_test))\n",
    "    if accuracy >= 0.4:\n",
    "    print (\"Accuracy for C={}: {}\".format(c, accuracy))\n",
    "logit = LogisticRegression(C=1, solver='lbfgs', n_jobs=-1, random_state=7, max_iter=1000)\n",
    "log_reg = logit.fit(x_train,y_train)"
   ]
  },
  {
   "cell_type": "code",
   "execution_count": null,
   "metadata": {
    "colab": {
     "base_uri": "https://localhost:8080/",
     "height": 55
    },
    "colab_type": "code",
    "id": "8CKForvFc291",
    "outputId": "8c9b7075-f236-45dd-b4d2-7111107fbff6"
   },
   "outputs": [],
   "source": [
    "'''\n",
    "from keras.models import Sequential\n",
    "from keras.layers import Dense\n",
    "# define the keras model\n",
    "model = Sequential()\n",
    "model.add(Dense(12, input_dim=1902, activation='relu'))\n",
    "model.add(Dense(1902, activation='relu'))\n",
    "model.add(Dense(1, activation='sigmoid'))\n",
    "# compile the keras model\n",
    "model.compile(loss='binary_crossentropy', optimizer='adam', metrics=['accuracy'])\n",
    "# fit the keras model on the dataset\n",
    "model.fit(X, df[1], epochs=150, batch_size=10)\n",
    "'''"
   ]
  },
  {
   "cell_type": "code",
   "execution_count": null,
   "metadata": {
    "colab": {
     "base_uri": "https://localhost:8080/",
     "height": 35
    },
    "colab_type": "code",
    "id": "gc4WquwksQrR",
    "outputId": "f61ba528-4e43-49c8-c57c-a53e06608316"
   },
   "outputs": [],
   "source": [
    "review = \"es pesimo profesor, no merece estar en esa universidad\"\n",
    "test = [(review)]\n",
    "val = cv.transform(test)\n",
    "print(log_reg.predict(val))"
   ]
  }
 ],
 "metadata": {
  "colab": {
   "collapsed_sections": [],
   "name": "Proyecto3.ipynb",
   "provenance": [],
   "toc_visible": true
  },
  "kernelspec": {
   "display_name": "Python 3",
   "language": "python",
   "name": "python3"
  },
  "language_info": {
   "codemirror_mode": {
    "name": "ipython",
    "version": 3
   },
   "file_extension": ".py",
   "mimetype": "text/x-python",
   "name": "python",
   "nbconvert_exporter": "python",
   "pygments_lexer": "ipython3",
   "version": "3.7.3"
  }
 },
 "nbformat": 4,
 "nbformat_minor": 1
}
