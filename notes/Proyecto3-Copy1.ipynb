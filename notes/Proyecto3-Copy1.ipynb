{
 "cells": [
  {
   "cell_type": "code",
   "execution_count": 1,
   "metadata": {
    "colab": {},
    "colab_type": "code",
    "id": "upgvm9ZWjE7g"
   },
   "outputs": [],
   "source": [
    "from bs4 import BeautifulSoup\n",
    "import requests\n",
    "import os.path"
   ]
  },
  {
   "cell_type": "code",
   "execution_count": 2,
   "metadata": {
    "colab": {},
    "colab_type": "code",
    "id": "JSd6jdQ-jbx7"
   },
   "outputs": [],
   "source": [
    "def normalize(s):\n",
    "    replacements = ((\"á\", \"a\"), (\"é\", \"e\"), (\"í\", \"i\"), (\"ó\", \"o\"),\n",
    "                    (\"ú\", \"u\"), (\"ñ\",\"n\"), (\"  \",\" \"),(\" \",\"-\"))\n",
    "    s = s.strip()\n",
    "    for a, b in replacements:\n",
    "        s = s.replace(a, b).replace(a.upper(), b.upper())\n",
    "        s = s.lower()\n",
    "    return s"
   ]
  },
  {
   "cell_type": "code",
   "execution_count": 9,
   "metadata": {
    "colab": {},
    "colab_type": "code",
    "id": "I8i8atSrj_xb"
   },
   "outputs": [
    {
     "name": "stdout",
     "output_type": "stream",
     "text": [
      "arquitectura-y-urbanismo\n",
      "diseno-grafico\n",
      "diseno-industrial\n",
      "conservatorio-de-musica\n",
      "cine-y-television\n",
      "instituto-de-investigaciones-esteticas\n",
      "artes-plasticas-y-visuales\n"
     ]
    }
   ],
   "source": [
    "docentes = {}\n",
    "url_artes = 'http://www.facartes.unal.edu.co/fa/docentes/index.php'\n",
    "html_artes = requests.get(url_artes).text\n",
    "arbol = BeautifulSoup(html_artes)\n",
    "#print(arbol.find(\"option\",selected=True).text)\n",
    "escuelas = arbol.find_all(\"option\")\n",
    "#print(escuelas[0]['value'])\n",
    "\n",
    "for escuela in escuelas:\n",
    "    docente_dep = []\n",
    "    new_url = url_artes+\"?escuela=\"+escuela['value']\n",
    "    html_artes = requests.get(new_url).text\n",
    "    arbol = BeautifulSoup(html_artes)\n",
    "    for i in arbol.find_all(\"span\", {\"class\":\"name\"}):\n",
    "        docente_dep.append(normalize(i.text))\n",
    "    docentes[normalize(arbol.find(\"option\",selected=True).text)] = docente_dep\n",
    "docentes[\"artes-plasticas-y-visuales\"] = docentes.pop(\"artes-plasticas\")\n",
    "\n",
    "for key, val in docentes.items():\n",
    "    print(key)"
   ]
  },
  {
   "cell_type": "code",
   "execution_count": 0,
   "metadata": {
    "colab": {},
    "colab_type": "code",
    "id": "ycrYJylU0FHT"
   },
   "outputs": [],
   "source": [
    "def url_maker(departamento, docente):\n",
    "    base_url = \"https://losestudiantes.co/universidad-nacional/\"\n",
    "    url =\"{}{}/profesores/{}\".format(base_url,departamento,docente)\n",
    "    return(url)\n",
    "\n"
   ]
  },
  {
   "cell_type": "code",
   "execution_count": 0,
   "metadata": {
    "colab": {},
    "colab_type": "code",
    "id": "oEZA1JLc6MVl"
   },
   "outputs": [],
   "source": [
    "url_administracion_contaduria=\"http://fce.unal.edu.co/docentesfce/index.php?escuela=1\"\n",
    "html_administracion_contaduria =  requests.get(url_administracion_contaduria).text\n",
    "arbol = BeautifulSoup(html_administracion_contaduria)\n",
    "docente_dep = []\n",
    "for profesor in arbol.find_all(\"h4\",{ \"style\":\"font-size: 16px\"}):\n",
    "    docente_dep.append(normalize(profesor.text))\n",
    "docentes[\"administracion-y-contaduria-publica\"] = docente_dep"
   ]
  },
  {
   "cell_type": "code",
   "execution_count": 0,
   "metadata": {
    "colab": {},
    "colab_type": "code",
    "id": "f-qD4hPWA0GT"
   },
   "outputs": [],
   "source": [
    "url_economia=\"http://fce.unal.edu.co/docentesfce/index.php?escuela=2\"\n",
    "html_economia =  requests.get(url_economia).text\n",
    "arbol = BeautifulSoup(html_economia)\n",
    "docente_dep = []\n",
    "for profesor in arbol.find_all(\"h4\",{ \"style\":\"font-size: 16px\"}):\n",
    "  docente_dep.append(normalize(profesor.text))\n",
    "docentes[\"economia\"] = docente_dep\n"
   ]
  },
  {
   "cell_type": "code",
   "execution_count": 7,
   "metadata": {
    "colab": {
     "base_uri": "https://localhost:8080/",
     "height": 35
    },
    "colab_type": "code",
    "id": "2dRJFoyU7ALq",
    "outputId": "f0b62cfc-61d1-4ad9-fc8f-a2a8690a096e"
   },
   "outputs": [
    {
     "name": "stdout",
     "output_type": "stream",
     "text": [
      "3302\n"
     ]
    }
   ],
   "source": [
    "urls = []\n",
    "with open(\"/content/drive/My Drive/url_andes.txt\",\"r\") as url_andes:\n",
    "  arbol = BeautifulSoup(url_andes.read())\n",
    "  for a in arbol.find_all(\"a\",{\"class\":\"jsx-633353764\"}):\n",
    "    urls.append(\"https://losestudiantes.co/\"+a['href'])\n",
    "print(len(urls))"
   ]
  },
  {
   "cell_type": "code",
   "execution_count": 0,
   "metadata": {
    "colab": {},
    "colab_type": "code",
    "id": "z_EYEmhnxZA2"
   },
   "outputs": [],
   "source": [
    "import json\n",
    "json.dump( docentes, open( \"profesors.json\", 'w' ) )\n",
    "\n",
    "for k,v in docentes.items():\n",
    "  for profesor in v:\n",
    "    urls.append(url_maker(k,profesor))\n",
    "with open('urls.txt', 'w') as f:\n",
    "    for item in urls:\n",
    "        f.write(\"%s\\n\" % item)\n",
    "\n",
    "with open('urls.txt', 'w') as f:\n",
    "    for item in urls:\n",
    "        f.write(\"%s\\n\" % item)"
   ]
  },
  {
   "cell_type": "code",
   "execution_count": 20,
   "metadata": {
    "colab": {
     "base_uri": "https://localhost:8080/",
     "height": 55
    },
    "colab_type": "code",
    "id": "v-NfnrC8F5gw",
    "outputId": "ccdea321-e062-4b97-87db-dd0aa66c2f2f"
   },
   "outputs": [
    {
     "data": {
      "text/plain": [
       "'\\nfor url in urls:\\n  html_review = requests.get(url).text\\n  arbol = BeautifulSoup(html_review)\\n  containers = arbol.find_all(\"li\",{\"class\":\"jsx-571610088 post \"})  \\n  for container in containers:\\n    # nota = container.find(\"span\",{\"class\":\"jsx-571610088 numeroStats\"}).text\\n    # if nota <= 0.5:\\n    #   nota = 0.5\\n    # elif 0.5<nota<=1:\\n    #   nota = 1\\n    # elif 1<nota<=1.5:\\n    #   nota = 1.5\\n    # elif 1.5<nota<=2:\\n    #   nota = 2\\n    # elif 2<nota<=2.5:\\n    #   nota = 2.5\\n    # elif 2.5<nota<=3:\\n    #   nota = 3\\n    # elif 3<nota<=3.5:\\n    #   nota = 3.5\\n    # elif 3.5<nota<=4:\\n    #   nota = 4\\n    # elif 4<nota<=4.5:\\n    #   nota = 4.5\\n    # elif 4.5<nota<=5:\\n    #   nota = 5\\n    review = container.find(\"div\",{\"class\":\"jsx-571610088 lineBreak\"})\\n    nota = container.find(\"span\",{\"class\":\"jsx-571610088 numeroStats\"})\\n    if nota is None or review is None:\\n      continue\\n    train_data.append((review.text,\\n                str(nota.text),url))\\n'"
      ]
     },
     "execution_count": 20,
     "metadata": {
      "tags": []
     },
     "output_type": "execute_result"
    }
   ],
   "source": [
    "train_data =[]\n",
    "if os.path.isfile('reviews.json'):\n",
    "    # # Read data from file:\n",
    "      train_data = json.load( open( \"reviews.json\" ) )\n",
    "else:\n",
    "    for url in urls:\n",
    "        html_review = requests.get(url).text\n",
    "        arbol = BeautifulSoup(html_review)\n",
    "        containers = arbol.find_all(\"li\",{\"class\":\"jsx-571610088 post \"})  \n",
    "        for container in containers:\n",
    "            review = container.find(\"div\",{\"class\":\"jsx-571610088 lineBreak\"})\n",
    "            nota = container.find(\"span\",{\"class\":\"jsx-571610088 numeroStats\"})\n",
    "            if nota is None or review is None:\n",
    "                continue\n",
    "            train_data.append((review.text, str(nota.text),url))"
   ]
  },
  {
   "cell_type": "code",
   "execution_count": 0,
   "metadata": {
    "colab": {},
    "colab_type": "code",
    "id": "Aplvq30XVtYW"
   },
   "outputs": [],
   "source": [
    "with open('reviews.txt', 'w') as f:\n",
    "    for item in train_data:\n",
    "        f.write(\"%s --%s\\n\" % (item[0],item[1]))\n",
    "json.dump( train_data, open( \"reviews.json\", 'w', encoding='utf-8' ) )"
   ]
  },
  {
   "cell_type": "code",
   "execution_count": 0,
   "metadata": {
    "colab": {},
    "colab_type": "code",
    "id": "aHc-cd-LYgeo"
   },
   "outputs": [],
   "source": [
    "from sklearn.feature_extraction.text import CountVectorizer\n",
    "from sklearn.model_selection import train_test_split\n",
    "from sklearn import preprocessing\n",
    "import pandas as pd"
   ]
  },
  {
   "cell_type": "markdown",
   "metadata": {
    "colab_type": "text",
    "id": "7jRiBsmM-szf"
   },
   "source": []
  },
  {
   "cell_type": "markdown",
   "metadata": {
    "colab_type": "text",
    "id": "xrd-ZJ7gm0Tj"
   },
   "source": []
  },
  {
   "cell_type": "code",
   "execution_count": 23,
   "metadata": {
    "colab": {
     "base_uri": "https://localhost:8080/",
     "height": 348
    },
    "colab_type": "code",
    "id": "8FpWJgbuZLjL",
    "outputId": "183ab215-4ad9-4661-d9ad-ac045c556093"
   },
   "outputs": [
    {
     "name": "stdout",
     "output_type": "stream",
     "text": [
      "0    7677\n",
      "1    7677\n",
      "2    7677\n",
      "dtype: int64\n",
      "                                                       0  ...                                                  2\n",
      "0      Es lo peor en serio no explica nada, no es cla...  ...  https://losestudiantes.co/universidad-de-los-a...\n",
      "1      Todo un amor de profesor, no sé como sea para ...  ...  https://losestudiantes.co/universidad-de-los-a...\n",
      "2      El CBU es un poco aburrido si no te interesa e...  ...  https://losestudiantes.co/universidad-de-los-a...\n",
      "3      Es la clase más aburrida que he visto en la un...  ...  https://losestudiantes.co/universidad-de-los-a...\n",
      "4      Hernando es muy buena persona, en realidad es ...  ...  https://losestudiantes.co/universidad-de-los-a...\n",
      "...                                                  ...  ...                                                ...\n",
      "24394  Excelente cátedra. Sus clases están dotadas de...  ...  https://losestudiantes.co/universidad-nacional...\n",
      "24395  Muy buen profesor, el sesgo es evidente pero a...  ...  https://losestudiantes.co/universidad-nacional...\n",
      "24396  Buen profesor, pero a veces no separa los punt...  ...  https://losestudiantes.co/universidad-nacional...\n",
      "24397  Es el profesor perfecto para introducirlo a un...  ...  https://losestudiantes.co/universidad-nacional...\n",
      "24398  Muy buen profesor!\\nTiene un gran conocimiento...  ...  https://losestudiantes.co/universidad-nacional...\n",
      "\n",
      "[24399 rows x 3 columns]\n"
     ]
    }
   ],
   "source": [
    "df = pd.DataFrame(train_data)\n",
    "print(df[df[1]==\"5\"].count())\n",
    "print(df)"
   ]
  },
  {
   "cell_type": "code",
   "execution_count": 13,
   "metadata": {
    "colab": {
     "base_uri": "https://localhost:8080/",
     "height": 225
    },
    "colab_type": "code",
    "id": "_HODXCcyZPyD",
    "outputId": "ed583078-93a1-4f33-d0ae-4d8779b2b968"
   },
   "outputs": [
    {
     "name": "stdout",
     "output_type": "stream",
     "text": [
      "3562       5\n",
      "18758      5\n",
      "8903       5\n",
      "3569       5\n",
      "1275     2.9\n",
      "        ... \n",
      "4126       5\n",
      "3621       5\n",
      "9909     4.5\n",
      "7589       5\n",
      "17607    4.3\n",
      "Name: 1, Length: 18299, dtype: object\n"
     ]
    }
   ],
   "source": [
    "\n",
    "cv = CountVectorizer(binary=True)\n",
    "cv.fit(df[0])\n",
    "X = cv.transform(df[0])\n",
    "\n",
    "x_train,x_test,y_train , y_test = train_test_split(X,df[1], train_size =  0.75)\n",
    "print(y_train)"
   ]
  },
  {
   "cell_type": "code",
   "execution_count": 14,
   "metadata": {
    "colab": {
     "base_uri": "https://localhost:8080/",
     "height": 86
    },
    "colab_type": "code",
    "id": "wOQSbNuecY48",
    "outputId": "201121d7-683b-4cde-96ab-f7706d551b31"
   },
   "outputs": [
    {
     "name": "stdout",
     "output_type": "stream",
     "text": [
      "Accuracy for C=0.05: 0.41114754098360656\n",
      "Accuracy for C=0.25: 0.4547540983606557\n",
      "Accuracy for C=0.5: 0.47672131147540986\n",
      "Accuracy for C=1: 0.4914754098360656\n"
     ]
    }
   ],
   "source": [
    "from sklearn.linear_model import LogisticRegression\n",
    "from sklearn.metrics import accuracy_score\n",
    "for c in [0.01, 0.05, 0.25, 0.5, 1]:\n",
    "  print\n",
    "  lr = LogisticRegression(solver='newton-cg',C=c,max_iter=1000)\n",
    "  lr.fit(x_train, y_train)\n",
    "  accuracy = accuracy_score(y_test, lr.predict(x_test))\n",
    "  if accuracy >= 0.4:\n",
    "    print (\"Accuracy for C=%s: %s\" \n",
    "          % (c, accuracy))\n",
    "logit = LogisticRegression(C=1, solver='lbfgs', n_jobs=-1, random_state=7, max_iter=1000)\n",
    "log_reg = logit.fit(x_train,y_train)\n"
   ]
  },
  {
   "cell_type": "code",
   "execution_count": 15,
   "metadata": {
    "colab": {
     "base_uri": "https://localhost:8080/",
     "height": 55
    },
    "colab_type": "code",
    "id": "8CKForvFc291",
    "outputId": "8c9b7075-f236-45dd-b4d2-7111107fbff6"
   },
   "outputs": [
    {
     "data": {
      "text/plain": [
       "\"\\nfrom keras.models import Sequential\\nfrom keras.layers import Dense\\n# define the keras model\\nmodel = Sequential()\\nmodel.add(Dense(12, input_dim=1902, activation='relu'))\\nmodel.add(Dense(1902, activation='relu'))\\nmodel.add(Dense(1, activation='sigmoid'))\\n# compile the keras model\\nmodel.compile(loss='binary_crossentropy', optimizer='adam', metrics=['accuracy'])\\n# fit the keras model on the dataset\\nmodel.fit(X, df[1], epochs=150, batch_size=10)\\n\""
      ]
     },
     "execution_count": 15,
     "metadata": {
      "tags": []
     },
     "output_type": "execute_result"
    }
   ],
   "source": [
    "'''\n",
    "from keras.models import Sequential\n",
    "from keras.layers import Dense\n",
    "# define the keras model\n",
    "model = Sequential()\n",
    "model.add(Dense(12, input_dim=1902, activation='relu'))\n",
    "model.add(Dense(1902, activation='relu'))\n",
    "model.add(Dense(1, activation='sigmoid'))\n",
    "# compile the keras model\n",
    "model.compile(loss='binary_crossentropy', optimizer='adam', metrics=['accuracy'])\n",
    "# fit the keras model on the dataset\n",
    "model.fit(X, df[1], epochs=150, batch_size=10)\n",
    "'''"
   ]
  },
  {
   "cell_type": "code",
   "execution_count": 17,
   "metadata": {
    "colab": {
     "base_uri": "https://localhost:8080/",
     "height": 35
    },
    "colab_type": "code",
    "id": "gc4WquwksQrR",
    "outputId": "f61ba528-4e43-49c8-c57c-a53e06608316"
   },
   "outputs": [
    {
     "name": "stdout",
     "output_type": "stream",
     "text": [
      "['1']\n"
     ]
    }
   ],
   "source": [
    "review=\"es pesimo profesor, no merece estar en esa universidad\"\n",
    "test =[(review)]\n",
    "val = cv.transform(test)\n",
    "print(log_reg.predict(val))"
   ]
  },
  {
   "cell_type": "code",
   "execution_count": 0,
   "metadata": {
    "colab": {},
    "colab_type": "code",
    "id": "dRupURj_6gNP"
   },
   "outputs": [],
   "source": []
  },
  {
   "cell_type": "code",
   "execution_count": 0,
   "metadata": {
    "colab": {},
    "colab_type": "code",
    "id": "zUo-IBh9sVhK"
   },
   "outputs": [],
   "source": []
  }
 ],
 "metadata": {
  "colab": {
   "collapsed_sections": [],
   "name": "Proyecto3.ipynb",
   "provenance": [],
   "toc_visible": true
  },
  "kernelspec": {
   "display_name": "Python 3",
   "language": "python",
   "name": "python3"
  },
  "language_info": {
   "codemirror_mode": {
    "name": "ipython",
    "version": 3
   },
   "file_extension": ".py",
   "mimetype": "text/x-python",
   "name": "python",
   "nbconvert_exporter": "python",
   "pygments_lexer": "ipython3",
   "version": "3.7.3"
  }
 },
 "nbformat": 4,
 "nbformat_minor": 1
}
