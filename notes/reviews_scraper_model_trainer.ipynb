{
 "cells": [
  {
   "cell_type": "code",
   "execution_count": 1,
   "metadata": {
    "colab": {},
    "colab_type": "code",
    "id": "upgvm9ZWjE7g"
   },
   "outputs": [],
   "source": [
    "from bs4 import BeautifulSoup\n",
    "#from request_handler import req_get\n",
    "from requests import get as req_get\n",
    "import os.path\n",
    "import json"
   ]
  },
  {
   "cell_type": "markdown",
   "metadata": {},
   "source": [
    "# Adquisición de datos"
   ]
  },
  {
   "cell_type": "code",
   "execution_count": 2,
   "metadata": {
    "colab": {},
    "colab_type": "code",
    "id": "JSd6jdQ-jbx7"
   },
   "outputs": [],
   "source": [
    "\"\"\" Funciones auxiliares \"\"\"\n",
    "def normalize(s):\n",
    "    \"\"\"Quita acentos, espacios y capitalizción de cadenas\"\"\"\n",
    "    replacements = ((\"á\", \"a\"), (\"é\", \"e\"), (\"í\", \"i\"), (\"ó\", \"o\"), (\"ú\", \"u\"),\n",
    "                    (\"ñ\",\"n\"), (\"  \",\" \"), (\" \",\"-\") )\n",
    "    s = s.strip()\n",
    "    for a, b in replacements:\n",
    "        s = s.replace(a, b).replace(a.upper(), b.upper())\n",
    "        s = s.lower()\n",
    "    return s\n",
    "\n",
    "\n",
    "def url_maker(departamento, docente):\n",
    "    \"\"\"dado un profesor y su departamento retorna la url del profesor en losestudiantes.co\"\"\"\n",
    "    base_url = \"https://losestudiantes.co/universidad-nacional/\"\n",
    "    url = \"{}{}/profesores/{}\".format(base_url, departamento,docente)\n",
    "    return(url)\n",
    "\n",
    "docentes = {}"
   ]
  },
  {
   "cell_type": "code",
   "execution_count": 3,
   "metadata": {
    "colab": {},
    "colab_type": "code",
    "id": "I8i8atSrj_xb"
   },
   "outputs": [],
   "source": [
    "def get_urls_artes(docentes):\n",
    "    \"\"\"Obtener la lista de profesores de la facultad de artes\"\"\"\n",
    "    url_artes = 'http://www.facartes.unal.edu.co/fa/docentes/index.php'\n",
    "    html_artes = req_get(url_artes).text\n",
    "\n",
    "    arbol = BeautifulSoup(html_artes)\n",
    "    escuelas = arbol.find_all(\"option\")\n",
    "\n",
    "    for escuela in escuelas:\n",
    "        docente_dep = []\n",
    "        new_url = url_artes + \"?escuela=\" + escuela['value']\n",
    "        html_artes = req_get(new_url).text\n",
    "        arbol = BeautifulSoup(html_artes)\n",
    "        for i in arbol.find_all(\"span\", {\"class\":\"name\"}):\n",
    "            docente_dep.append(normalize(i.text))\n",
    "            \n",
    "        dept = normalize(arbol.find(\"option\",selected=True).text)\n",
    "        docentes[dept] = docente_dep\n",
    "    \n",
    "    docentes[\"artes-plasticas-y-visuales\"] = docentes.pop(\"artes-plasticas\")\n",
    "    return docentes\n",
    "    \n",
    "get_urls_artes(docentes)"
   ]
  },
  {
   "cell_type": "code",
   "execution_count": 4,
   "metadata": {
    "colab": {},
    "colab_type": "code",
    "id": "oEZA1JLc6MVl"
   },
   "outputs": [],
   "source": [
    "def get_urls_fce(url):\n",
    "    \"\"\"Obtener la lista de profesores de la facultad de ciencias economicas\"\"\"\n",
    "    html =  req_get(url).text\n",
    "    arbol = BeautifulSoup(html)\n",
    "    docente_dep = []\n",
    "    for profesor in arbol.find_all(\"h4\", {\"style\":\"font-size: 16px\"}):\n",
    "        docente_dep.append(normalize(profesor.text))\n",
    "    return docente_dep\n",
    "\n",
    "docentes[\"administracion-y-contaduria-publica\"] = get_urls_fce(\"http://fce.unal.edu.co/docentesfce/index.php?escuela=1\")\n",
    "docentes[\"economia\"] = get_urls_fce(\"http://fce.unal.edu.co/docentesfce/index.php?escuela=2\")"
   ]
  },
  {
   "cell_type": "code",
   "execution_count": 5,
   "metadata": {
    "colab": {
     "base_uri": "https://localhost:8080/",
     "height": 35
    },
    "colab_type": "code",
    "id": "2dRJFoyU7ALq",
    "outputId": "f0b62cfc-61d1-4ad9-fc8f-a2a8690a096e"
   },
   "outputs": [
    {
     "name": "stdout",
     "output_type": "stream",
     "text": [
      "3302\n"
     ]
    }
   ],
   "source": [
    "def get_urls_uniandes():\n",
    "    \"\"\"Obtener la lista de profesores de Uniandes\"\"\"\n",
    "    urls = []\n",
    "    with open(\"./data/url_andes.txt\",\"r\") as url_andes:\n",
    "        arbol = BeautifulSoup(url_andes.read())\n",
    "        for a in arbol.find_all(\"a\", {\"class\":\"jsx-633353764\"}):\n",
    "            urls.append(\"https://losestudiantes.co/\" + a['href'])\n",
    "    print(len(urls))\n",
    "    return urls\n",
    "\n",
    "urls_andes = get_urls_uniandes()"
   ]
  },
  {
   "cell_type": "code",
   "execution_count": 6,
   "metadata": {
    "colab": {},
    "colab_type": "code",
    "id": "z_EYEmhnxZA2"
   },
   "outputs": [
    {
     "data": {
      "text/plain": [
       "'\\nwith open(\\'./data/urls.txt\\', \\'w\\') as f:\\n    for item in urls_unal:\\n        f.write(\"{}\\n\".format(item))\\n'"
      ]
     },
     "execution_count": 6,
     "metadata": {},
     "output_type": "execute_result"
    }
   ],
   "source": [
    "json.dump(docentes, open(\"./data/profesors.json\", 'w'))\n",
    "\n",
    "urls_unal = []\n",
    "for k,v in docentes.items():\n",
    "    for profesor in v:\n",
    "        urls_unal.append(url_maker(k, profesor)) # USING URLS LIST\n",
    "\"\"\"\n",
    "with open('./data/urls.txt', 'w') as f:\n",
    "    for item in urls_unal:\n",
    "        f.write(\"{}\\n\".format(item))\n",
    "\"\"\""
   ]
  },
  {
   "cell_type": "code",
   "execution_count": 1,
   "metadata": {
    "colab": {},
    "colab_type": "code",
    "id": "upgvm9ZWjE7g"
   },
   "outputs": [],
   "source": [
    "from bs4 import BeautifulSoup\n",
    "#from request_handler import req_get\n",
    "from requests import get as req_get\n",
    "import os.path\n",
    "import json"
   ]
  },
  {
   "cell_type": "markdown",
   "metadata": {},
   "source": [
    "# Adquisición de datos"
   ]
  },
  {
   "cell_type": "code",
   "execution_count": 2,
   "metadata": {
    "colab": {},
    "colab_type": "code",
    "id": "JSd6jdQ-jbx7"
   },
   "outputs": [],
   "source": [
    "\"\"\" Funciones auxiliares \"\"\"\n",
    "def normalize(s):\n",
    "    \"\"\"Quita acentos, espacios y capitalizción de cadenas\"\"\"\n",
    "    replacements = ((\"á\", \"a\"), (\"é\", \"e\"), (\"í\", \"i\"), (\"ó\", \"o\"), (\"ú\", \"u\"),\n",
    "                    (\"ñ\",\"n\"), (\"  \",\" \"), (\" \",\"-\") )\n",
    "    s = s.strip()\n",
    "    for a, b in replacements:\n",
    "        s = s.replace(a, b).replace(a.upper(), b.upper())\n",
    "        s = s.lower()\n",
    "    return s\n",
    "\n",
    "\n",
    "def url_maker(departamento, docente):\n",
    "    \"\"\"dado un profesor y su departamento retorna la url del profesor en losestudiantes.co\"\"\"\n",
    "    base_url = \"https://losestudiantes.co/universidad-nacional/\"\n",
    "    url = \"{}{}/profesores/{}\".format(base_url, departamento,docente)\n",
    "    return(url)\n",
    "\n",
    "docentes = {}"
   ]
  },
  {
   "cell_type": "code",
   "execution_count": 3,
   "metadata": {
    "colab": {},
    "colab_type": "code",
    "id": "I8i8atSrj_xb"
   },
   "outputs": [],
   "source": [
    "def get_urls_artes(docentes):\n",
    "    \"\"\"Obtener la lista de profesores de la facultad de artes\"\"\"\n",
    "    url_artes = 'http://www.facartes.unal.edu.co/fa/docentes/index.php'\n",
    "    html_artes = req_get(url_artes).text\n",
    "\n",
    "    arbol = BeautifulSoup(html_artes)\n",
    "    escuelas = arbol.find_all(\"option\")\n",
    "\n",
    "    for escuela in escuelas:\n",
    "        docente_dep = []\n",
    "        new_url = url_artes + \"?escuela=\" + escuela['value']\n",
    "        html_artes = req_get(new_url).text\n",
    "        arbol = BeautifulSoup(html_artes)\n",
    "        for i in arbol.find_all(\"span\", {\"class\":\"name\"}):\n",
    "            docente_dep.append(normalize(i.text))\n",
    "            \n",
    "        docentes[normalize(arbol.find(\"option\",selected=True).text)] = docente_dep\n",
    "    \n",
    "    docentes[\"artes-plasticas-y-visuales\"] = docentes.pop(\"artes-plasticas\")\n",
    "    \n",
    "get_urls_artes(docentes)"
   ]
  },
  {
   "cell_type": "code",
   "execution_count": 4,
   "metadata": {
    "colab": {},
    "colab_type": "code",
    "id": "oEZA1JLc6MVl"
   },
   "outputs": [],
   "source": [
    "def get_urls_fce(url):\n",
    "    \"\"\"Obtener la lista de profesores de la facultad de ciencias economicas\"\"\"\n",
    "    html =  req_get(url).text\n",
    "    arbol = BeautifulSoup(html)\n",
    "    docente_dep = []\n",
    "    for profesor in arbol.find_all(\"h4\", {\"style\":\"font-size: 16px\"}):\n",
    "        docente_dep.append(normalize(profesor.text))\n",
    "    return docente_dep\n",
    "\n",
    "docentes[\"administracion-y-contaduria-publica\"] = get_urls_fce(\"http://fce.unal.edu.co/docentesfce/index.php?escuela=1\")\n",
    "docentes[\"economia\"] = get_urls_fce(\"http://fce.unal.edu.co/docentesfce/index.php?escuela=2\")"
   ]
  },
  {
   "cell_type": "code",
   "execution_count": 5,
   "metadata": {
    "colab": {
     "base_uri": "https://localhost:8080/",
     "height": 35
    },
    "colab_type": "code",
    "id": "2dRJFoyU7ALq",
    "outputId": "f0b62cfc-61d1-4ad9-fc8f-a2a8690a096e"
   },
   "outputs": [
    {
     "name": "stdout",
     "output_type": "stream",
     "text": [
      "3302\n"
     ]
    }
   ],
   "source": [
    "def get_urls_uniandes():\n",
    "    \"\"\"Obtener la lista de profesores de Uniandes\"\"\"\n",
    "    urls = []\n",
    "    with open(\"./data/url_andes.txt\",\"r\") as url_andes:\n",
    "        arbol = BeautifulSoup(url_andes.read())\n",
    "        for a in arbol.find_all(\"a\", {\"class\":\"jsx-633353764\"}):\n",
    "            urls.append(\"https://losestudiantes.co/\" + a['href'])\n",
    "    print(len(urls))\n",
    "    return urls\n",
    "\n",
    "urls_andes = get_urls_uniandes()"
   ]
  },
  {
   "cell_type": "code",
   "execution_count": 6,
   "metadata": {
    "colab": {},
    "colab_type": "code",
    "id": "z_EYEmhnxZA2"
   },
   "outputs": [
    {
     "data": {
      "text/plain": [
       "'\\nwith open(\\'./data/urls.txt\\', \\'w\\') as f:\\n    for item in urls_unal:\\n        f.write(\"{}\\n\".format(item))\\n'"
      ]
     },
     "execution_count": 6,
     "metadata": {},
     "output_type": "execute_result"
    }
   ],
   "source": [
    "json.dump(docentes, open(\"./data/profesors.json\", 'w'))\n",
    "\n",
    "urls_unal = []\n",
    "for k,v in docentes.items():\n",
    "    for profesor in v:\n",
    "        urls_unal.append(url_maker(k, profesor)) # USING URLS LIST\n",
    "\"\"\"\n",
    "with open('./data/urls.txt', 'w') as f:\n",
    "    for item in urls_unal:\n",
    "        f.write(\"{}\\n\".format(item))\n",
    "\"\"\""
   ]
  },
  {
   "cell_type": "code",
   "execution_count": 7,
   "metadata": {
    "colab": {
     "base_uri": "https://localhost:8080/",
     "height": 55
    },
    "colab_type": "code",
    "id": "v-NfnrC8F5gw",
    "outputId": "ccdea321-e062-4b97-87db-dd0aa66c2f2f"
   },
   "outputs": [],
   "source": [
    "def get_train_data(urls):\n",
    "    train_data = []\n",
    "    if os.path.isfile(\"./data/reviews.json\"):\n",
    "          train_data = json.load(open(\"./data/reviews.json\")) # Read data from file\n",
    "    else:\n",
    "        for url in urls:\n",
    "            html_review = req_get(url).text\n",
    "            arbol = BeautifulSoup(html_review)\n",
    "            containers = arbol.find_all(\"li\",{\"class\":\"jsx-571610088 post \"})\n",
    "            for container in containers:\n",
    "        #nota = container.find(\"span\",{\"class\":\"jsx-571610088 numeroStats\"}).text\n",
    "        #nota = round(nota * 2) / 2\n",
    "                review = container.find(\"div\",{\"class\":\"jsx-571610088 lineBreak\"})\n",
    "                nota = container.find(\"span\",{\"class\":\"jsx-571610088 numeroStats\"})\n",
    "                if nota is None or review is None:\n",
    "                    continue\n",
    "                train_data.append((review.text, float(nota.text),url))\n",
    "                \n",
    "    return train_data\n",
    "\n",
    "all_urls = urls_andes + urls_unal\n",
    "train_data = get_train_data(all_urls)\n",
    "json.dump(train_data, open( \"./data/reviews.json\", 'w', encoding='utf-8'))"
   ]
  },
  {
   "cell_type": "markdown",
   "metadata": {},
   "source": [
    "# Entrenamiento de modelo"
   ]
  },
  {
   "cell_type": "code",
   "execution_count": 8,
   "metadata": {
    "colab": {},
    "colab_type": "code",
    "id": "aHc-cd-LYgeo"
   },
   "outputs": [],
   "source": [
    "from sklearn.feature_extraction.text import CountVectorizer\n",
    "from sklearn.model_selection import train_test_split\n",
    "from sklearn import preprocessing\n",
    "from sklearn.linear_model import LogisticRegression\n",
    "from sklearn.linear_model import LinearRegression\n",
    "from sklearn.metrics import accuracy_score\n",
    "from sklearn.metrics import r2_score\n",
    "import pandas as pd"
   ]
  },
  {
   "cell_type": "code",
   "execution_count": 9,
   "metadata": {
    "colab": {
     "base_uri": "https://localhost:8080/",
     "height": 348
    },
    "colab_type": "code",
    "id": "8FpWJgbuZLjL",
    "outputId": "183ab215-4ad9-4661-d9ad-ac045c556093"
   },
   "outputs": [
    {
     "name": "stdout",
     "output_type": "stream",
     "text": [
      "0    7677\n",
      "1    7677\n",
      "2    7677\n",
      "dtype: int64\n",
      "                                                       0    1  \\\n",
      "0      Es lo peor en serio no explica nada, no es cla...    2   \n",
      "1      Todo un amor de profesor, no sé como sea para ...    5   \n",
      "2      El CBU es un poco aburrido si no te interesa e...  3.5   \n",
      "3      Es la clase más aburrida que he visto en la un...  1.5   \n",
      "4      Hernando es muy buena persona, en realidad es ...    4   \n",
      "...                                                  ...  ...   \n",
      "24394  Excelente cátedra. Sus clases están dotadas de...    5   \n",
      "24395  Muy buen profesor, el sesgo es evidente pero a...  4.2   \n",
      "24396  Buen profesor, pero a veces no separa los punt...    4   \n",
      "24397  Es el profesor perfecto para introducirlo a un...    5   \n",
      "24398  Muy buen profesor!\\nTiene un gran conocimiento...    5   \n",
      "\n",
      "                                                       2  \n",
      "0      https://losestudiantes.co/universidad-de-los-a...  \n",
      "1      https://losestudiantes.co/universidad-de-los-a...  \n",
      "2      https://losestudiantes.co/universidad-de-los-a...  \n",
      "3      https://losestudiantes.co/universidad-de-los-a...  \n",
      "4      https://losestudiantes.co/universidad-de-los-a...  \n",
      "...                                                  ...  \n",
      "24394  https://losestudiantes.co/universidad-nacional...  \n",
      "24395  https://losestudiantes.co/universidad-nacional...  \n",
      "24396  https://losestudiantes.co/universidad-nacional...  \n",
      "24397  https://losestudiantes.co/universidad-nacional...  \n",
      "24398  https://losestudiantes.co/universidad-nacional...  \n",
      "\n",
      "[24399 rows x 3 columns]\n"
     ]
    }
   ],
   "source": [
    "\"\"\"Checkear cuantos 5 hay\"\"\"\n",
    "df = pd.DataFrame(train_data)\n",
    "print(df[df[1]==\"5\"].count())\n",
    "print(df)"
   ]
  },
  {
   "cell_type": "code",
   "execution_count": 10,
   "metadata": {
    "colab": {
     "base_uri": "https://localhost:8080/",
     "height": 225
    },
    "colab_type": "code",
    "id": "_HODXCcyZPyD",
    "outputId": "ed583078-93a1-4f33-d0ae-4d8779b2b968"
   },
   "outputs": [
    {
     "name": "stdout",
     "output_type": "stream",
     "text": [
      "108        5\n",
      "19558    3.9\n",
      "116        4\n",
      "16023      5\n",
      "11243    4.5\n",
      "        ... \n",
      "9506     2.9\n",
      "6649       2\n",
      "5125       4\n",
      "4683       4\n",
      "3515     4.5\n",
      "Name: 1, Length: 18299, dtype: object\n"
     ]
    }
   ],
   "source": [
    "cv = CountVectorizer(binary=True)\n",
    "cv.fit(df[0])\n",
    "X = cv.transform(df[0])\n",
    "\n",
    "x_train,x_test,y_train , y_test = train_test_split(X,df[1], train_size =  0.75)\n",
    "print(y_train)"
   ]
  },
  {
   "cell_type": "code",
   "execution_count": 11,
   "metadata": {
    "colab": {
     "base_uri": "https://localhost:8080/",
     "height": 86
    },
    "colab_type": "code",
    "id": "wOQSbNuecY48",
    "outputId": "201121d7-683b-4cde-96ab-f7706d551b31"
   },
   "outputs": [
    {
     "data": {
      "text/plain": [
       "'\\nfor c in [0.01, 0.05, 0.25, 0.5, 1]:\\n    lr = LogisticRegression(solver=\\'newton-cg\\',C=c,max_iter=1000)\\n    lr.fit(x_train, y_train)\\n    accuracy = accuracy_score(y_test, lr.predict(x_test))\\n    if accuracy >= 0.4:\\n        print(\"Accuracy for C = {}: {}\".format(c, accuracy))\\n    \\nlogit = LogisticRegression(C=1, solver=\\'lbfgs\\', n_jobs=-1, random_state=7, max_iter=1000)\\nlog_reg = logit.fit(x_train,y_train)\\n'"
      ]
     },
     "execution_count": 11,
     "metadata": {},
     "output_type": "execute_result"
    }
   ],
   "source": [
    "\"\"\"MODELO #1: Regresión logística\"\"\"\n",
    "\"\"\"\n",
    "for c in [0.01, 0.05, 0.25, 0.5, 1]:\n",
    "    lr = LogisticRegression(solver='newton-cg',C=c,max_iter=1000)\n",
    "    lr.fit(x_train, y_train)\n",
    "    accuracy = accuracy_score(y_test, lr.predict(x_test))\n",
    "    if accuracy >= 0.4:\n",
    "        print(\"Accuracy for C = {}: {}\".format(c, accuracy))\n",
    "    \n",
    "logit = LogisticRegression(C=1, solver='lbfgs', n_jobs=-1, random_state=7, max_iter=1000)\n",
    "log_reg = logit.fit(x_train,y_train)\n",
    "\"\"\""
   ]
  },
  {
   "cell_type": "code",
   "execution_count": 12,
   "metadata": {
    "colab": {
     "base_uri": "https://localhost:8080/",
     "height": 35
    },
    "colab_type": "code",
    "id": "gc4WquwksQrR",
    "outputId": "f61ba528-4e43-49c8-c57c-a53e06608316"
   },
   "outputs": [
    {
     "ename": "NameError",
     "evalue": "name 'log_reg' is not defined",
     "output_type": "error",
     "traceback": [
      "\u001b[0;31m---------------------------------------------------------------------------\u001b[0m",
      "\u001b[0;31mNameError\u001b[0m                                 Traceback (most recent call last)",
      "\u001b[0;32m<ipython-input-12-4eb621e56ceb>\u001b[0m in \u001b[0;36m<module>\u001b[0;34m\u001b[0m\n\u001b[1;32m      2\u001b[0m \u001b[0mtest\u001b[0m \u001b[0;34m=\u001b[0m \u001b[0;34m[\u001b[0m\u001b[0;34m(\u001b[0m\u001b[0mreview\u001b[0m\u001b[0;34m)\u001b[0m\u001b[0;34m]\u001b[0m\u001b[0;34m\u001b[0m\u001b[0;34m\u001b[0m\u001b[0m\n\u001b[1;32m      3\u001b[0m \u001b[0mval\u001b[0m \u001b[0;34m=\u001b[0m \u001b[0mcv\u001b[0m\u001b[0;34m.\u001b[0m\u001b[0mtransform\u001b[0m\u001b[0;34m(\u001b[0m\u001b[0mtest\u001b[0m\u001b[0;34m)\u001b[0m\u001b[0;34m\u001b[0m\u001b[0;34m\u001b[0m\u001b[0m\n\u001b[0;32m----> 4\u001b[0;31m \u001b[0mprint\u001b[0m\u001b[0;34m(\u001b[0m\u001b[0mlog_reg\u001b[0m\u001b[0;34m.\u001b[0m\u001b[0mpredict\u001b[0m\u001b[0;34m(\u001b[0m\u001b[0mval\u001b[0m\u001b[0;34m)\u001b[0m\u001b[0;34m)\u001b[0m\u001b[0;34m\u001b[0m\u001b[0;34m\u001b[0m\u001b[0m\n\u001b[0m",
      "\u001b[0;31mNameError\u001b[0m: name 'log_reg' is not defined"
     ]
    }
   ],
   "source": [
    "\"\"\"\n",
    "review = \"es pesimo profesor, no merece estar en esa universidad\"\n",
    "test = [(review)]\n",
    "val = cv.transform(test)\n",
    "print(log_reg.predict(val))\n",
    "\"\"\""
   ]
  },
  {
   "cell_type": "code",
   "execution_count": 16,
   "metadata": {
    "colab": {
     "base_uri": "https://localhost:8080/",
     "height": 86
    },
    "colab_type": "code",
    "id": "wOQSbNuecY48",
    "outputId": "201121d7-683b-4cde-96ab-f7706d551b31"
   },
   "outputs": [
    {
     "data": {
      "text/plain": [
       "LinearRegression(copy_X=False, fit_intercept=False, n_jobs=-1, normalize=False)"
      ]
     },
     "execution_count": 16,
     "metadata": {},
     "output_type": "execute_result"
    }
   ],
   "source": [
    "\"\"\"MODELO #2: Regresión Lineal\"\"\"\n",
    "lr = LinearRegression(fit_intercept=False, normalize=False, copy_X=False, n_jobs=-1)\n",
    "lr.fit(x_train, y_train)"
   ]
  },
  {
   "cell_type": "code",
   "execution_count": 17,
   "metadata": {},
   "outputs": [
    {
     "ename": "SyntaxError",
     "evalue": "invalid syntax (<ipython-input-17-a50e7bd1e4bf>, line 2)",
     "output_type": "error",
     "traceback": [
      "\u001b[0;36m  File \u001b[0;32m\"<ipython-input-17-a50e7bd1e4bf>\"\u001b[0;36m, line \u001b[0;32m2\u001b[0m\n\u001b[0;31m    r2_score.(y_test, lr.predict(x_test))\u001b[0m\n\u001b[0m             ^\u001b[0m\n\u001b[0;31mSyntaxError\u001b[0m\u001b[0;31m:\u001b[0m invalid syntax\n"
     ]
    }
   ],
   "source": [
    "performance = lr.score(x_test, y_test)\n",
    "r2_score.(y_test, lr.predict(x_test))\n",
    "print(performance)"
   ]
  },
  {
   "cell_type": "code",
   "execution_count": null,
   "metadata": {
    "colab": {
     "base_uri": "https://localhost:8080/",
     "height": 35
    },
    "colab_type": "code",
    "id": "gc4WquwksQrR",
    "outputId": "f61ba528-4e43-49c8-c57c-a53e06608316"
   },
   "outputs": [],
   "source": [
    "review = \"es pesimo profesor, no merece estar en esa universidad\"\n",
    "test = [(review)]\n",
    "val = cv.transform(test)\n",
    "print(lr.predict(val))"
   ]
  },
  {
   "cell_type": "code",
   "execution_count": null,
   "metadata": {
    "colab": {
     "base_uri": "https://localhost:8080/",
     "height": 55
    },
    "colab_type": "code",
    "id": "8CKForvFc291",
    "outputId": "8c9b7075-f236-45dd-b4d2-7111107fbff6"
   },
   "outputs": [],
   "source": [
    "'''\n",
    "\"\"\"MODELO #3: ML\"\"\"\n",
    "from keras.models import Sequential\n",
    "from keras.layers import Dense\n",
    "# define the keras model\n",
    "model = Sequential()\n",
    "model.add(Dense(12, input_dim=1902, activation='relu'))\n",
    "model.add(Dense(1902, activation='relu'))\n",
    "model.add(Dense(1, activation='sigmoid'))\n",
    "# compile the keras model\n",
    "model.compile(loss='binary_crossentropy', optimizer='adam', metrics=['accuracy'])\n",
    "# fit the keras model on the dataset\n",
    "model.fit(X, df[1], epochs=150, batch_size=10)\n",
    "'''"
   ]
  }
 ],
 "metadata": {
  "colab": {
   "collapsed_sections": [],
   "name": "Proyecto3.ipynb",
   "provenance": [],
   "toc_visible": true
  },
  "kernelspec": {
   "display_name": "Python 3",
   "language": "python",
   "name": "python3"
  },
  "language_info": {
   "codemirror_mode": {
    "name": "ipython",
    "version": 3
   },
   "file_extension": ".py",
   "mimetype": "text/x-python",
   "name": "python",
   "nbconvert_exporter": "python",
   "pygments_lexer": "ipython3",
   "version": "3.7.3"
  }
 },
 "nbformat": 4,
 "nbformat_minor": 1
}
